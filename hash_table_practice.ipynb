{
 "cells": [
  {
   "cell_type": "markdown",
   "metadata": {},
   "source": [
    "# Practice to understand how hash tables works"
   ]
  },
  {
   "cell_type": "code",
   "execution_count": 8,
   "metadata": {},
   "outputs": [],
   "source": [
    "class HashTable:\n",
    "    def __init__(self, key_value_list: list):\n",
    "        self.length = len(key_value_list)\n",
    "        assert isinstance(key_value_list, list), 'key_value_list must be a list'\n",
    "        for _ in key_value_list:\n",
    "            assert len(_) == 2, 'Each entry has to be of length 2.'\n",
    "            \n",
    "        self.keys = [_[0] for _ in key_value_list]\n",
    "        self.values = [_[1] for _ in key_value_list]\n",
    "        self.index = [self.calculate_index(key) for key in self.keys]\n",
    "        self.indexed_key_value_list = [[] for i in range(self.length)]\n",
    "        for i in range(self.length):\n",
    "            self.indexed_key_value_list[self.index[i]].append((self.keys[i], self.values[i]))\n",
    "\n",
    "    def calculate_index(self, key):\n",
    "        ind = hash(key) % (self.length)\n",
    "        return ind\n",
    "\n",
    "    def lookup(self, query_key):\n",
    "        ind = self.calculate_index(query_key)\n",
    "        for item in self.indexed_key_value_list[ind]:\n",
    "            if item[0] == query_key:\n",
    "                return item[1]\n",
    "        raise KeyError(f'The key {query_key} is not in the table')"
   ]
  },
  {
   "cell_type": "code",
   "execution_count": 9,
   "metadata": {},
   "outputs": [],
   "source": [
    "ht = HashTable([('josefina','pilar'), ('hernan', 'garrido'), [2,'def'], ('k', 'kk')])"
   ]
  },
  {
   "cell_type": "code",
   "execution_count": 10,
   "metadata": {},
   "outputs": [
    {
     "data": {
      "text/plain": [
       "[0, 0, 2, 0]"
      ]
     },
     "execution_count": 10,
     "metadata": {},
     "output_type": "execute_result"
    }
   ],
   "source": [
    "ht.index"
   ]
  },
  {
   "cell_type": "code",
   "execution_count": 11,
   "metadata": {},
   "outputs": [
    {
     "data": {
      "text/plain": [
       "[[('josefina', 'pilar'), ('hernan', 'garrido'), ('k', 'kk')],\n",
       " [],\n",
       " [(2, 'def')],\n",
       " []]"
      ]
     },
     "execution_count": 11,
     "metadata": {},
     "output_type": "execute_result"
    }
   ],
   "source": [
    "ht.indexed_key_value_list"
   ]
  },
  {
   "cell_type": "code",
   "execution_count": 12,
   "metadata": {},
   "outputs": [
    {
     "name": "stdout",
     "output_type": "stream",
     "text": [
      "kk\n",
      "garrido\n",
      "pilar\n"
     ]
    },
    {
     "ename": "KeyError",
     "evalue": "'The key p is not in the table'",
     "output_type": "error",
     "traceback": [
      "\u001b[1;31m---------------------------------------------------------------------------\u001b[0m",
      "\u001b[1;31mKeyError\u001b[0m                                  Traceback (most recent call last)",
      "Cell \u001b[1;32mIn[12], line 4\u001b[0m\n\u001b[0;32m      2\u001b[0m \u001b[38;5;28mprint\u001b[39m(ht\u001b[38;5;241m.\u001b[39mlookup(\u001b[38;5;124m'\u001b[39m\u001b[38;5;124mhernan\u001b[39m\u001b[38;5;124m'\u001b[39m))\n\u001b[0;32m      3\u001b[0m \u001b[38;5;28mprint\u001b[39m(ht\u001b[38;5;241m.\u001b[39mlookup(\u001b[38;5;124m'\u001b[39m\u001b[38;5;124mjosefina\u001b[39m\u001b[38;5;124m'\u001b[39m))\n\u001b[1;32m----> 4\u001b[0m \u001b[38;5;28mprint\u001b[39m(\u001b[43mht\u001b[49m\u001b[38;5;241;43m.\u001b[39;49m\u001b[43mlookup\u001b[49m\u001b[43m(\u001b[49m\u001b[38;5;124;43m'\u001b[39;49m\u001b[38;5;124;43mp\u001b[39;49m\u001b[38;5;124;43m'\u001b[39;49m\u001b[43m)\u001b[49m)\n",
      "Cell \u001b[1;32mIn[8], line 24\u001b[0m, in \u001b[0;36mHashTable.lookup\u001b[1;34m(self, query_key)\u001b[0m\n\u001b[0;32m     22\u001b[0m     \u001b[38;5;28;01mif\u001b[39;00m item[\u001b[38;5;241m0\u001b[39m] \u001b[38;5;241m==\u001b[39m query_key:\n\u001b[0;32m     23\u001b[0m         \u001b[38;5;28;01mreturn\u001b[39;00m item[\u001b[38;5;241m1\u001b[39m]\n\u001b[1;32m---> 24\u001b[0m \u001b[38;5;28;01mraise\u001b[39;00m \u001b[38;5;167;01mKeyError\u001b[39;00m(\u001b[38;5;124mf\u001b[39m\u001b[38;5;124m'\u001b[39m\u001b[38;5;124mThe key \u001b[39m\u001b[38;5;132;01m{\u001b[39;00mquery_key\u001b[38;5;132;01m}\u001b[39;00m\u001b[38;5;124m is not in the table\u001b[39m\u001b[38;5;124m'\u001b[39m)\n",
      "\u001b[1;31mKeyError\u001b[0m: 'The key p is not in the table'"
     ]
    }
   ],
   "source": [
    "print(ht.lookup('k'))\n",
    "print(ht.lookup('hernan'))\n",
    "print(ht.lookup('josefina'))\n",
    "print(ht.lookup('p'))"
   ]
  },
  {
   "cell_type": "markdown",
   "metadata": {},
   "source": [
    "# Using python dict"
   ]
  },
  {
   "cell_type": "code",
   "execution_count": 13,
   "metadata": {},
   "outputs": [],
   "source": [
    "class HashTableDict:\n",
    "    def __init__(self, key_value_list: list):\n",
    "        self.length = len(key_value_list)\n",
    "        assert isinstance(key_value_list, list), 'key_value_list must be a list'\n",
    "        self.dict = {key_value[0]: key_value[1] for key_value in key_value_list}\n",
    "        for _ in key_value_list:\n",
    "            assert len(_) == 2, 'Each entry has to be of length 2.'\n",
    "            \n",
    "        self.keys = self.dict.keys()\n",
    "        self.values = self.dict.values()\n",
    "\n",
    "    def lookup(self, query_key):\n",
    "        return self.dict[query_key]"
   ]
  },
  {
   "cell_type": "code",
   "execution_count": 14,
   "metadata": {},
   "outputs": [],
   "source": [
    "ht = HashTableDict([('josefina','pilar'), ('hernan', 'garrido'), [2,'def'], ('k', 'kk')])"
   ]
  },
  {
   "cell_type": "code",
   "execution_count": 15,
   "metadata": {},
   "outputs": [
    {
     "name": "stdout",
     "output_type": "stream",
     "text": [
      "kk\n",
      "garrido\n",
      "pilar\n"
     ]
    },
    {
     "ename": "KeyError",
     "evalue": "'p'",
     "output_type": "error",
     "traceback": [
      "\u001b[1;31m---------------------------------------------------------------------------\u001b[0m",
      "\u001b[1;31mKeyError\u001b[0m                                  Traceback (most recent call last)",
      "Cell \u001b[1;32mIn[15], line 4\u001b[0m\n\u001b[0;32m      2\u001b[0m \u001b[38;5;28mprint\u001b[39m(ht\u001b[38;5;241m.\u001b[39mlookup(\u001b[38;5;124m'\u001b[39m\u001b[38;5;124mhernan\u001b[39m\u001b[38;5;124m'\u001b[39m))\n\u001b[0;32m      3\u001b[0m \u001b[38;5;28mprint\u001b[39m(ht\u001b[38;5;241m.\u001b[39mlookup(\u001b[38;5;124m'\u001b[39m\u001b[38;5;124mjosefina\u001b[39m\u001b[38;5;124m'\u001b[39m))\n\u001b[1;32m----> 4\u001b[0m \u001b[38;5;28mprint\u001b[39m(\u001b[43mht\u001b[49m\u001b[38;5;241;43m.\u001b[39;49m\u001b[43mlookup\u001b[49m\u001b[43m(\u001b[49m\u001b[38;5;124;43m'\u001b[39;49m\u001b[38;5;124;43mp\u001b[39;49m\u001b[38;5;124;43m'\u001b[39;49m\u001b[43m)\u001b[49m)\n",
      "Cell \u001b[1;32mIn[13], line 13\u001b[0m, in \u001b[0;36mHashTableDict.lookup\u001b[1;34m(self, query_key)\u001b[0m\n\u001b[0;32m     12\u001b[0m \u001b[38;5;28;01mdef\u001b[39;00m \u001b[38;5;21mlookup\u001b[39m(\u001b[38;5;28mself\u001b[39m, query_key):\n\u001b[1;32m---> 13\u001b[0m     \u001b[38;5;28;01mreturn\u001b[39;00m \u001b[38;5;28;43mself\u001b[39;49m\u001b[38;5;241;43m.\u001b[39;49m\u001b[43mdict\u001b[49m\u001b[43m[\u001b[49m\u001b[43mquery_key\u001b[49m\u001b[43m]\u001b[49m\n",
      "\u001b[1;31mKeyError\u001b[0m: 'p'"
     ]
    }
   ],
   "source": [
    "print(ht.lookup('k'))\n",
    "print(ht.lookup('hernan'))\n",
    "print(ht.lookup('josefina'))\n",
    "print(ht.lookup('p'))"
   ]
  }
 ],
 "metadata": {
  "kernelspec": {
   "display_name": "car_models",
   "language": "python",
   "name": "python3"
  },
  "language_info": {
   "codemirror_mode": {
    "name": "ipython",
    "version": 3
   },
   "file_extension": ".py",
   "mimetype": "text/x-python",
   "name": "python",
   "nbconvert_exporter": "python",
   "pygments_lexer": "ipython3",
   "version": "3.8.10"
  }
 },
 "nbformat": 4,
 "nbformat_minor": 2
}
