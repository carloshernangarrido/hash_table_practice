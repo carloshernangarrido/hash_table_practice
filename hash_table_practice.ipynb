{
 "cells": [
  {
   "cell_type": "markdown",
   "metadata": {},
   "source": [
    "# Practice to understand how hash tables works"
   ]
  },
  {
   "cell_type": "code",
   "execution_count": 400,
   "metadata": {},
   "outputs": [],
   "source": [
    "class HashTable:\n",
    "    def __init__(self, key_value_list: list, min_load_factor: float = 0.3, max_load_factor: float = 0.8):\n",
    "        assert max_load_factor > min_load_factor, 'max_load_factor must be larger than min_load_factor'\n",
    "        self.max_load_factor = max_load_factor\n",
    "        self.min_load_factor = min_load_factor\n",
    "        self.size = len(key_value_list)\n",
    "        self.capacity = int(2/(self.min_load_factor + self.max_load_factor) * self.size)\n",
    "        assert isinstance(key_value_list, list), 'key_value_list must be a list'\n",
    "        for _ in key_value_list:\n",
    "            assert len(_) == 2, 'Each entry has to be of length 2.'\n",
    "            \n",
    "        self.keys_ = [_[0] for _ in key_value_list]\n",
    "        self.values_ = [_[1] for _ in key_value_list]\n",
    "        self.index = None\n",
    "        self.indexed_key_value_list = None\n",
    "        self.reindex()\n",
    "    \n",
    "    def reindex(self):\n",
    "        print(f'Indexing with size={self.size} and capacity={self.capacity} ...')\n",
    "        self.index = [self.calculate_index(key) for key in self.keys_]\n",
    "        self.indexed_key_value_list = [[] for i in range(self.capacity)]\n",
    "        for i in range(self.size):\n",
    "            self.indexed_key_value_list[self.index[i]].append((self.keys_[i], self.values_[i]))\n",
    "        \n",
    "    def check_and_resize(self):\n",
    "        if ((self.size / self.capacity) > self.max_load_factor) or ((self.size / self.capacity) < self.min_load_factor):\n",
    "            self.capacity = int(2/(self.min_load_factor + self.max_load_factor) * self.size)\n",
    "            self.reindex()\n",
    "\n",
    "    def calculate_index(self, key):\n",
    "        ind = hash(key) % (self.capacity)\n",
    "        return ind\n",
    "\n",
    "    def insert(self, key_value: tuple):\n",
    "        self.keys_.append(key_value[0])\n",
    "        self.values_.append(key_value[1])\n",
    "        self.index.append(self.calculate_index(key_value[0]))\n",
    "        self.indexed_key_value_list[self.index[-1]].append((self.keys_[-1], self.values_[-1]))\n",
    "        self.size += 1\n",
    "        self.check_and_resize()\n",
    "\n",
    "    def delete(self, query_key):\n",
    "        value, ind = self.lookup(query_key, ret_ind=True)\n",
    "        self.indexed_key_value_list[ind].remove((query_key, value))\n",
    "        self.size -= 1\n",
    "        self.check_and_resize()\n",
    "\n",
    "    def lookup(self, query_key, ret_ind: bool = False):\n",
    "        ind = self.calculate_index(query_key)\n",
    "        for item in self.indexed_key_value_list[ind]:\n",
    "            if item[0] == query_key:\n",
    "                if ret_ind:\n",
    "                    return item[1], ind\n",
    "                else:\n",
    "                    return item[1]\n",
    "        raise KeyError(f'The key {query_key} is not in the table')"
   ]
  },
  {
   "cell_type": "code",
   "execution_count": 401,
   "metadata": {},
   "outputs": [
    {
     "name": "stdout",
     "output_type": "stream",
     "text": [
      "Indexing with size=4 and capacity=7 ...\n"
     ]
    }
   ],
   "source": [
    "ht = HashTable([('josefina','pilar'), ('hernan', 'garrido'), [2,'def'], ('k', 'kk')])"
   ]
  },
  {
   "cell_type": "code",
   "execution_count": 402,
   "metadata": {},
   "outputs": [
    {
     "name": "stdout",
     "output_type": "stream",
     "text": [
      "[3, 4, 2, 0]\n",
      "[[('k', 'kk')], [], [(2, 'def')], [('josefina', 'pilar')], [('hernan', 'garrido')], [], []]\n"
     ]
    }
   ],
   "source": [
    "print(ht.index)\n",
    "print(ht.indexed_key_value_list)"
   ]
  },
  {
   "cell_type": "markdown",
   "metadata": {},
   "source": [
    "## Inserting objects"
   ]
  },
  {
   "cell_type": "code",
   "execution_count": 403,
   "metadata": {},
   "outputs": [
    {
     "name": "stdout",
     "output_type": "stream",
     "text": [
      "[3, 4, 2, 0, 6]\n",
      "[[('k', 'kk')], [], [(2, 'def')], [('josefina', 'pilar')], [('hernan', 'garrido')], [], [('francisca', 'lujan')]]\n"
     ]
    }
   ],
   "source": [
    "ht.insert(('francisca', 'lujan'))\n",
    "print(ht.index)\n",
    "print(ht.indexed_key_value_list)"
   ]
  },
  {
   "cell_type": "code",
   "execution_count": 404,
   "metadata": {},
   "outputs": [
    {
     "name": "stdout",
     "output_type": "stream",
     "text": [
      "kk\n",
      "garrido\n",
      "pilar\n",
      "lujan\n"
     ]
    }
   ],
   "source": [
    "print(ht.lookup('k'))\n",
    "print(ht.lookup('hernan'))\n",
    "print(ht.lookup('josefina'))\n",
    "print(ht.lookup('francisca'))"
   ]
  },
  {
   "cell_type": "code",
   "execution_count": 405,
   "metadata": {},
   "outputs": [
    {
     "name": "stdout",
     "output_type": "stream",
     "text": [
      "Indexing with size=6 and capacity=10 ...\n",
      "[2, 6, 2, 4, 0, 6]\n",
      "[[('francisca', 'lujan')], [], [('josefina', 'pilar'), (2, 'def')], [], [('k', 'kk')], [], [('hernan', 'garrido'), ('pepe', 'honguito')], [], [], []]\n"
     ]
    }
   ],
   "source": [
    "ht.insert(('pepe', 'honguito'))\n",
    "print(ht.index)\n",
    "print(ht.indexed_key_value_list)"
   ]
  },
  {
   "cell_type": "code",
   "execution_count": 406,
   "metadata": {},
   "outputs": [
    {
     "name": "stdout",
     "output_type": "stream",
     "text": [
      "kk\n",
      "garrido\n",
      "pilar\n",
      "lujan\n",
      "honguito\n"
     ]
    }
   ],
   "source": [
    "print(ht.lookup('k'))\n",
    "print(ht.lookup('hernan'))\n",
    "print(ht.lookup('josefina'))\n",
    "print(ht.lookup('francisca'))\n",
    "print(ht.lookup('pepe'))"
   ]
  },
  {
   "cell_type": "markdown",
   "metadata": {},
   "source": [
    "## Deleting objects"
   ]
  },
  {
   "cell_type": "code",
   "execution_count": 407,
   "metadata": {},
   "outputs": [
    {
     "name": "stdout",
     "output_type": "stream",
     "text": [
      "kk\n",
      "[2, 6, 2, 4, 0, 6]\n",
      "[[('francisca', 'lujan')], [], [('josefina', 'pilar'), (2, 'def')], [], [], [], [('hernan', 'garrido'), ('pepe', 'honguito')], [], [], []]\n",
      "key to lookup is not in the table\n"
     ]
    }
   ],
   "source": [
    "try:\n",
    "    print(ht.lookup('k'))\n",
    "except KeyError:\n",
    "    print('key to lookup is not in the table')\n",
    "\n",
    "try:\n",
    "    ht.delete('k')\n",
    "    print(ht.index)\n",
    "    print(ht.indexed_key_value_list)\n",
    "except KeyError:\n",
    "    print('key to delete is not in the table')\n",
    "\n",
    "try:\n",
    "    print(ht.lookup('k'))\n",
    "except KeyError:\n",
    "    print('key to lookup is not in the table')"
   ]
  },
  {
   "cell_type": "code",
   "execution_count": 408,
   "metadata": {},
   "outputs": [
    {
     "name": "stdout",
     "output_type": "stream",
     "text": [
      "garrido\n",
      "[2, 6, 2, 4, 0, 6]\n",
      "[[('francisca', 'lujan')], [], [('josefina', 'pilar'), (2, 'def')], [], [], [], [('pepe', 'honguito')], [], [], []]\n",
      "key to lookup is not in the table\n"
     ]
    }
   ],
   "source": [
    "try:\n",
    "    print(ht.lookup('hernan'))\n",
    "except KeyError:\n",
    "    print('key to lookup is not in the table')\n",
    "\n",
    "try:\n",
    "    ht.delete('hernan')\n",
    "    print(ht.index)\n",
    "    print(ht.indexed_key_value_list)\n",
    "except KeyError:\n",
    "    print('key to delete is not in the table')\n",
    "\n",
    "try:\n",
    "    print(ht.lookup('hernan'))\n",
    "except KeyError:\n",
    "    print('key to lookup is not in the table')"
   ]
  },
  {
   "cell_type": "code",
   "execution_count": 409,
   "metadata": {},
   "outputs": [
    {
     "name": "stdout",
     "output_type": "stream",
     "text": [
      "pilar\n",
      "[2, 6, 2, 4, 0, 6]\n",
      "[[('francisca', 'lujan')], [], [(2, 'def')], [], [], [], [('pepe', 'honguito')], [], [], []]\n",
      "key to lookup is not in the table\n"
     ]
    }
   ],
   "source": [
    "try:\n",
    "    print(ht.lookup('josefina'))\n",
    "except KeyError:\n",
    "    print('key to lookup is not in the table')\n",
    "\n",
    "try:\n",
    "    ht.delete('josefina')\n",
    "    print(ht.index)\n",
    "    print(ht.indexed_key_value_list)\n",
    "except KeyError:\n",
    "    print('key to delete is not in the table')\n",
    "\n",
    "try:\n",
    "    print(ht.lookup('josefina'))\n",
    "except KeyError:\n",
    "    print('key to lookup is not in the table')"
   ]
  },
  {
   "cell_type": "code",
   "execution_count": 410,
   "metadata": {},
   "outputs": [
    {
     "name": "stdout",
     "output_type": "stream",
     "text": [
      "lujan\n",
      "Indexing with size=2 and capacity=3 ...\n",
      "[0, 2, 2, 1, 0, 2]\n",
      "[[('josefina', 'pilar')], [], [('hernan', 'garrido')]]\n",
      "key to lookup is not in the table\n"
     ]
    }
   ],
   "source": [
    "try:\n",
    "    print(ht.lookup('francisca'))\n",
    "except KeyError:\n",
    "    print('key to lookup is not in the table')\n",
    "\n",
    "try:\n",
    "    ht.delete('francisca')\n",
    "    print(ht.index)\n",
    "    print(ht.indexed_key_value_list)\n",
    "except KeyError:\n",
    "    print('key to delete is not in the table')\n",
    "\n",
    "try:\n",
    "    print(ht.lookup('francisca'))\n",
    "except KeyError:\n",
    "    print('key to lookup is not in the table')"
   ]
  },
  {
   "cell_type": "markdown",
   "metadata": {},
   "source": [
    "# Using python dict"
   ]
  },
  {
   "cell_type": "code",
   "execution_count": 411,
   "metadata": {},
   "outputs": [],
   "source": [
    "class HashTableDict:\n",
    "    def __init__(self, key_value_list: list):\n",
    "        self.length = len(key_value_list)\n",
    "        assert isinstance(key_value_list, list), 'key_value_list must be a list'\n",
    "        self.dict = {key_value[0]: key_value[1] for key_value in key_value_list}\n",
    "        for _ in key_value_list:\n",
    "            assert len(_) == 2, 'Each entry has to be of length 2.'\n",
    "            \n",
    "        self.keys = self.dict.keys()\n",
    "        self.values = self.dict.values()\n",
    "\n",
    "    def lookup(self, query_key):\n",
    "        return self.dict[query_key]"
   ]
  },
  {
   "cell_type": "code",
   "execution_count": 412,
   "metadata": {},
   "outputs": [],
   "source": [
    "htd = HashTableDict([('josefina','pilar'), ('hernan', 'garrido'), [2,'def'], ('k', 'kk')])"
   ]
  },
  {
   "cell_type": "code",
   "execution_count": 413,
   "metadata": {},
   "outputs": [
    {
     "name": "stdout",
     "output_type": "stream",
     "text": [
      "kk\n",
      "garrido\n",
      "pilar\n"
     ]
    }
   ],
   "source": [
    "print(htd.lookup('k'))\n",
    "print(htd.lookup('hernan'))\n",
    "print(htd.lookup('josefina'))\n",
    "# print(htd.lookup('p'))"
   ]
  }
 ],
 "metadata": {
  "kernelspec": {
   "display_name": "car_models",
   "language": "python",
   "name": "python3"
  },
  "language_info": {
   "codemirror_mode": {
    "name": "ipython",
    "version": 3
   },
   "file_extension": ".py",
   "mimetype": "text/x-python",
   "name": "python",
   "nbconvert_exporter": "python",
   "pygments_lexer": "ipython3",
   "version": "3.8.10"
  }
 },
 "nbformat": 4,
 "nbformat_minor": 2
}
